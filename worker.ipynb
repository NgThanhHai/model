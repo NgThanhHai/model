{
 "cells": [
  {
   "cell_type": "code",
   "execution_count": 3,
   "metadata": {},
   "outputs": [
    {
     "name": "stdout",
     "output_type": "stream",
     "text": [
      "21:02:09 Worker rq:worker:ee163bfa66c447a0b180e1024f90dc52: started, version 1.10.1\n",
      "21:02:09 Subscribing to channel rq:pubsub:ee163bfa66c447a0b180e1024f90dc52\n",
      "21:02:09 *** Listening on high, default, low...\n",
      "21:02:09 Cleaning registries for queue: high\n",
      "21:02:09 Cleaning registries for queue: default\n",
      "21:02:09 Cleaning registries for queue: low\n",
      "21:02:21 default: imgprc.fst.retrInfo(array([[[ 57,  55,  51],\n",
      "        [ 57,  55,  51],\n",
      "        [ 57,  55,  51],\n",
      "...) (dd2969e4-4f91-41d1-a298-522e58caa331)\n"
     ]
    },
    {
     "name": "stderr",
     "output_type": "stream",
     "text": [
      "21:02:21 Worker rq:worker:ee163bfa66c447a0b180e1024f90dc52: found an unhandled exception, quitting...\n",
      "Traceback (most recent call last):\n",
      "  File \"C:\\Users\\ADMIN\\AppData\\Roaming\\Python\\Python38\\site-packages\\rq\\worker.py\", line 606, in work\n",
      "    self.execute_job(job, queue)\n",
      "  File \"C:\\Users\\ADMIN\\AppData\\Roaming\\Python\\Python38\\site-packages\\rq\\worker.py\", line 866, in execute_job\n",
      "    self.fork_work_horse(job, queue)\n",
      "  File \"C:\\Users\\ADMIN\\AppData\\Roaming\\Python\\Python38\\site-packages\\rq\\worker.py\", line 770, in fork_work_horse\n",
      "    child_pid = os.fork()\n",
      "AttributeError: module 'os' has no attribute 'fork'\n"
     ]
    },
    {
     "name": "stdout",
     "output_type": "stream",
     "text": [
      "21:02:21 Unsubscribing from channel rq:pubsub:ee163bfa66c447a0b180e1024f90dc52\n"
     ]
    }
   ],
   "source": [
    "import os\n",
    "import redis\n",
    "from rq import Worker, Queue, Connection\n",
    "\n",
    "listen = ['high', 'default', 'low']\n",
    "\n",
    "redis_url = os.getenv('REDISTOGO_URL', 'redis://:p84a7f9ee51968d375603ad8f6b0e01622eec62c6979c0df621b4d2dc556740ea@ec2-3-231-201-215.compute-1.amazonaws.com:15789')\n",
    "\n",
    "conn = redis.from_url(redis_url)\n",
    "\n",
    "if __name__ == '__main__':\n",
    "    with Connection(conn):\n",
    "        worker = Worker(map(Queue, listen))\n",
    "        worker.work()"
   ]
  },
  {
   "cell_type": "code",
   "execution_count": null,
   "metadata": {},
   "outputs": [],
   "source": []
  },
  {
   "cell_type": "code",
   "execution_count": null,
   "metadata": {},
   "outputs": [],
   "source": []
  }
 ],
 "metadata": {
  "kernelspec": {
   "display_name": "Python 3",
   "language": "python",
   "name": "python3"
  },
  "language_info": {
   "codemirror_mode": {
    "name": "ipython",
    "version": 3
   },
   "file_extension": ".py",
   "mimetype": "text/x-python",
   "name": "python",
   "nbconvert_exporter": "python",
   "pygments_lexer": "ipython3",
   "version": "3.8.5"
  }
 },
 "nbformat": 4,
 "nbformat_minor": 4
}
