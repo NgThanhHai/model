{
 "cells": [
  {
   "cell_type": "code",
   "execution_count": 158,
   "metadata": {},
   "outputs": [],
   "source": [
    "# import the necessary packages\n",
    "from imutils.perspective import four_point_transform\n",
    "from imutils import contours\n",
    "from math import ceil\n",
    "from matplotlib import pyplot as plt\n",
    "import numpy as np\n",
    "import imutils\n",
    "import cv2\n",
    "import os\n",
    "import time"
   ]
  },
  {
   "cell_type": "code",
   "execution_count": 159,
   "metadata": {},
   "outputs": [
    {
     "name": "stdout",
     "output_type": "stream",
     "text": [
      "['F:\\\\KHTN\\\\4th_year\\\\DATN\\\\img_prc\\\\api', 'F:\\\\Anaconda\\\\python38.zip', 'F:\\\\Anaconda\\\\DLLs', 'F:\\\\Anaconda\\\\lib', 'F:\\\\Anaconda', '', 'C:\\\\Users\\\\ADMIN\\\\AppData\\\\Roaming\\\\Python\\\\Python38\\\\site-packages', 'F:\\\\Anaconda\\\\lib\\\\site-packages', 'F:\\\\Anaconda\\\\lib\\\\site-packages\\\\win32', 'F:\\\\Anaconda\\\\lib\\\\site-packages\\\\win32\\\\lib', 'F:\\\\Anaconda\\\\lib\\\\site-packages\\\\Pythonwin', 'F:\\\\Anaconda\\\\lib\\\\site-packages\\\\IPython\\\\extensions', 'C:\\\\Users\\\\ADMIN\\\\.ipython', 'E:\\\\Python 3.7\\\\Lib\\\\site-packages', 'E:\\\\Python 3.7\\\\Lib\\\\site-packages', 'E:\\\\Python 3.7\\\\Lib\\\\site-packages']\n"
     ]
    }
   ],
   "source": [
    "# import sys\n",
    "# sys.path.append(\"E:\\Python 3.7\\Lib\\site-packages\")\n",
    "# print(sys.path)"
   ]
  },
  {
   "cell_type": "code",
   "execution_count": null,
   "metadata": {},
   "outputs": [],
   "source": []
  },
  {
   "cell_type": "code",
   "execution_count": null,
   "metadata": {},
   "outputs": [],
   "source": []
  },
  {
   "cell_type": "code",
   "execution_count": 161,
   "metadata": {},
   "outputs": [],
   "source": [
    "font = cv2.FONT_HERSHEY_SIMPLEX\n",
    "fontScale = 0.5\n",
    "fontColor = (255, 0, 0)\n",
    "lineType = 1"
   ]
  },
  {
   "cell_type": "code",
   "execution_count": null,
   "metadata": {},
   "outputs": [],
   "source": []
  },
  {
   "cell_type": "code",
   "execution_count": 162,
   "metadata": {},
   "outputs": [],
   "source": [
    "def get_xval(answer): # dạng của s (image, [x, y, w, h])\n",
    "    return answer[1][0]\n",
    "\n",
    "def is_rect(cnt):\n",
    "    peri = cv2.arcLength(c, True)\n",
    "    approx = cv2.approxPolyDP(c, 0.02 * peri, True)\n",
    "        \n",
    "    #if our approximated contour has four points,\n",
    "    # then we can assume we have found the paper\n",
    "    if len(approx) == 4:\n",
    "        return True\n",
    "    return False\n",
    "\n",
    "def show_img(img):\n",
    "    cv2.imshow('img', img)\n",
    "    cv2.waitKey(0)\n",
    "    \n",
    "def show_resized_img(img, width, height):\n",
    "    resized_image = cv2.resize(img, (width, height))\n",
    "    cv2.imshow('img', resized_image)\n",
    "    cv2.waitKey(0)"
   ]
  },
  {
   "cell_type": "code",
   "execution_count": null,
   "metadata": {},
   "outputs": [],
   "source": []
  },
  {
   "cell_type": "code",
   "execution_count": null,
   "metadata": {},
   "outputs": [],
   "source": []
  },
  {
   "cell_type": "code",
   "execution_count": 163,
   "metadata": {},
   "outputs": [],
   "source": [
    "def thresh_img(image):\n",
    "\n",
    "    # ADAPTIVE_THRESH_MEAN_C\n",
    "    # ADAPTIVE_THRESH_GAUSSIAN_C\n",
    "\n",
    "    gray = cv2.cvtColor(image, cv2.COLOR_BGR2GRAY)\n",
    "    blurred = cv2.GaussianBlur(gray, (5, 5), 0)\n",
    "#     blurred = cv2.medianBlur(gray, 5)\n",
    "#     thresh = cv2.Canny(blurred, 75, 200)\n",
    "\n",
    "#     thresh = cv2.threshold(blurred, 0, 255, cv2.THRESH_BINARY_INV | cv2.THRESH_OTSU)[1]\n",
    "\n",
    "    thresh = cv2.adaptiveThreshold(blurred, 255, cv2.ADAPTIVE_THRESH_MEAN_C, cv2.THRESH_BINARY_INV, 11, 3)\n",
    "    \n",
    "#     thresh = cv2.dilate(thresh,None,iterations = 1)\n",
    "#     thresh = cv2.erode(thresh,None,iterations = 1)\n",
    "    \n",
    "    sx = cv2.Sobel(thresh, cv2.CV_32F, 1, 0)\n",
    "    sy = cv2.Sobel(thresh, cv2.CV_32F, 0, 1)\n",
    "    m = cv2.magnitude(sx, sy)\n",
    "    thresh = cv2.normalize(m, None, 0.0, 255.0, cv2.NORM_MINMAX, cv2.CV_8U)\n",
    "    \n",
    "\n",
    "#     show_img(gray)\n",
    "#     show_img(blurred)\n",
    "#     show_img(thresh)\n",
    "    \n",
    "    return thresh"
   ]
  },
  {
   "cell_type": "code",
   "execution_count": 164,
   "metadata": {},
   "outputs": [],
   "source": [
    "def retr_codetest_id(code_test_img):\n",
    "    code_id = []\n",
    "    \n",
    "    code_test_img = cv2.cvtColor(code_test_img, cv2.COLOR_BGR2GRAY)\n",
    "    code_test_img = cv2.threshold(code_test_img, 0, 255, cv2.THRESH_BINARY_INV | cv2.THRESH_OTSU)[1]\n",
    "    \n",
    "    code_test_cols = np.array_split(code_test_img, 3, 1)\n",
    "\n",
    "    for i, cols in enumerate(code_test_cols):\n",
    "#         show_img(cols)\n",
    "\n",
    "        max_nonz = 0\n",
    "        filled_idx = -1\n",
    "        \n",
    "        code_id_bubble = np.array_split(cols, 10, 0)\n",
    "        for j, b in enumerate(code_id_bubble):\n",
    "#             show_resized_img(b, 250, 250)\n",
    "#             show_img(b)\n",
    "            curr_nonz = cv2.countNonZero(b)\n",
    "            if curr_nonz > max_nonz:\n",
    "                filled_idx = j\n",
    "                max_nonz = curr_nonz    \n",
    "        code_id.append((i + 1, filled_idx))\n",
    "    return code_id"
   ]
  },
  {
   "cell_type": "code",
   "execution_count": 165,
   "metadata": {},
   "outputs": [],
   "source": [
    "def retr_student_id(student_id_img):\n",
    "    student_id = []\n",
    "    \n",
    "    student_id_img = cv2.cvtColor(student_id_img, cv2.COLOR_BGR2GRAY)\n",
    "    student_id_img = cv2.threshold(student_id_img, 0, 255, cv2.THRESH_BINARY_INV | cv2.THRESH_OTSU)[1]\n",
    "    \n",
    "    student_id_cols = np.array_split(student_id_img, 6, 1)\n",
    "    \n",
    "    for i, cols in enumerate(student_id_cols):\n",
    "#         show_img(cols)\n",
    "\n",
    "        max_nonz = 0\n",
    "        filled_idx = -1\n",
    "        \n",
    "        student_id_bubble = np.array_split(cols, 10, 0)\n",
    "        for j, b in enumerate(student_id_bubble):\n",
    "#             show_resized_img(b, 250, 250)\n",
    "#             show_img(b)\n",
    "            curr_nonz = cv2.countNonZero(b)\n",
    "            if curr_nonz > max_nonz:\n",
    "                filled_idx = j\n",
    "                max_nonz = curr_nonz    \n",
    "        student_id.append((i + 1, filled_idx))\n",
    "    return student_id"
   ]
  },
  {
   "cell_type": "code",
   "execution_count": 166,
   "metadata": {},
   "outputs": [],
   "source": [
    "def get_choice(argument):\n",
    "    switcher = {\n",
    "        0: \"A\",\n",
    "        1: \"B\",\n",
    "        2: \"C\",\n",
    "        3: \"D\",\n",
    "    }\n",
    "    return switcher.get(argument, \"blank\")"
   ]
  },
  {
   "cell_type": "code",
   "execution_count": 167,
   "metadata": {},
   "outputs": [],
   "source": [
    "def get_answer(answer_list):\n",
    "    key_gen = []\n",
    "    \n",
    "    for i, ans in enumerate(answer_list):\n",
    "        ans = cv2.cvtColor(ans, cv2.COLOR_BGR2GRAY)\n",
    "        ans = cv2.threshold(ans, 0, 255, cv2.THRESH_BINARY_INV | cv2.THRESH_OTSU)[1]\n",
    "        \n",
    "#         show_img(ans)\n",
    "        bubble_row = np.array_split(ans, 5, 1)\n",
    "        bubble_row.pop(0)\n",
    "        \n",
    "        max_nonz = 0\n",
    "        choice = ''\n",
    "        filled_idx = -1\n",
    "        for j, b in enumerate(bubble_row):\n",
    "            curr_nonz = cv2.countNonZero(b)\n",
    "#             show_img(b)\n",
    "            if curr_nonz > max_nonz:\n",
    "                filled_idx = j\n",
    "                max_nonz = curr_nonz\n",
    "                \n",
    "        choice = get_choice(filled_idx)\n",
    "        key_gen.append((i + 1, choice))\n",
    "    return key_gen"
   ]
  },
  {
   "cell_type": "code",
   "execution_count": 168,
   "metadata": {},
   "outputs": [],
   "source": [
    "def retr_choice(sorted_ans_blocks):\n",
    "    #collect answer\n",
    "    box_distance = 10\n",
    "\n",
    "    answer_list = []\n",
    "    key_gen = []\n",
    "    \n",
    "    for ans_block in sorted_ans_blocks:\n",
    "        img = np.array(ans_block[0]) #take each answer block image\n",
    "\n",
    "        #take each answer box\n",
    "        box_img_rows = np.array_split(img, 6, 0)\n",
    "        \n",
    "        for tmp_img in box_img_rows: \n",
    "            img = tmp_img[box_distance:tmp_img.shape[0]-box_distance, :]\n",
    "            \n",
    "#             show_img(img)\n",
    "            answer_rows = np.array_split(img, 5, 0)\n",
    "            for j in answer_rows:\n",
    "                answer_list.append(j)\n",
    "#                 show_img(j)\n",
    "                \n",
    "    key_gen = get_answer(answer_list)\n",
    "    return key_gen"
   ]
  },
  {
   "cell_type": "code",
   "execution_count": null,
   "metadata": {},
   "outputs": [],
   "source": []
  },
  {
   "cell_type": "code",
   "execution_count": 169,
   "metadata": {},
   "outputs": [],
   "source": [
    "def retrInfo(org_img):\n",
    "    # find contours in the edge map, then initialize\n",
    "    # the contour that corresponds to the document\n",
    "    result = []\n",
    "    image = org_img.copy()\n",
    "    \n",
    "    thresh = thresh_img(image)\n",
    "    cnts = cv2.findContours(thresh.copy(), cv2.RETR_EXTERNAL, cv2.CHAIN_APPROX_NONE)\n",
    "    cnts = imutils.grab_contours(cnts)\n",
    "\n",
    "    answer_block = []\n",
    "\n",
    "    # ensure that at least one contour was found\n",
    "    if len(cnts) > 0:\n",
    "        # sort the contours according to their size in\n",
    "        # descending order\n",
    "\n",
    "        cnts = sorted(cnts, key=cv2.contourArea, reverse=True)\n",
    "        \n",
    "#         cv2.drawContours(img, cnts, -1, (0, 255, 0), 3)\n",
    "#         show_img(img)\n",
    "        \n",
    "    \n",
    "        answer_block_coor = cnts[0:4]\n",
    "\n",
    "        student_id_coor = cnts[6]\n",
    "        code_test_coor = cnts[7]\n",
    "\n",
    "        # loop over the sorted contours\n",
    "        for c in answer_block_coor:\n",
    "            # approximate the contour\n",
    "\n",
    "            x,y,w,h = cv2.boundingRect(c)\n",
    "            answer_block.append((image[y:y + h, x:x + w], [x, y, w, h]))\n",
    "#             show_img(image[y:y + h, x:x + w])\n",
    "\n",
    "            #collect answer block\n",
    "        sorted_ans_blocks = sorted(answer_block, key=get_xval)\n",
    "        \n",
    "        key_gen = retr_choice(sorted_ans_blocks)\n",
    "        \n",
    "        for k in key_gen:\n",
    "            print(k)\n",
    "        \n",
    "        x,y,w,h = cv2.boundingRect(student_id_coor)\n",
    "        student_id_img = image[y:y + h, x:x + w]\n",
    "        \n",
    "#         show_img(student_id_img)\n",
    "        student_id_block = retr_student_id(student_id_img)\n",
    "\n",
    "        print('---student id------')\n",
    "        for num in student_id_block:\n",
    "            print(num)\n",
    "\n",
    "            \n",
    "        x,y,w,h = cv2.boundingRect(code_test_coor)\n",
    "        code_test_img = image[y:y + h, x:x + w]\n",
    "#         show_img(code_test_img)\n",
    "        \n",
    "        code_id = retr_codetest_id(code_test_img)\n",
    "\n",
    "        print('---code test id------')\n",
    "        for num in code_id:\n",
    "            print(num)\n",
    "    \n",
    "    result.append(key_gen)\n",
    "    result.append(student_id_block)\n",
    "    result.append(code_id)\n",
    "    return result"
   ]
  },
  {
   "cell_type": "code",
   "execution_count": null,
   "metadata": {},
   "outputs": [],
   "source": []
  },
  {
   "cell_type": "code",
   "execution_count": null,
   "metadata": {},
   "outputs": [],
   "source": []
  },
  {
   "cell_type": "code",
   "execution_count": null,
   "metadata": {},
   "outputs": [],
   "source": []
  },
  {
   "cell_type": "code",
   "execution_count": null,
   "metadata": {},
   "outputs": [],
   "source": []
  },
  {
   "cell_type": "code",
   "execution_count": 14,
   "metadata": {},
   "outputs": [],
   "source": [
    "# start_time = time.time()"
   ]
  },
  {
   "cell_type": "code",
   "execution_count": 15,
   "metadata": {
    "scrolled": true
   },
   "outputs": [],
   "source": [
    "# for i in range(200):\n",
    "#     filename = 'answer_gen/ans_' + str(i + 1) + '.png'\n",
    "#     image = cv2.imread(filename)\n",
    "    \n",
    "#     print('---------------Scanning img ' + str(i + 1) + '--------------------------')\n",
    "#     retrInfo(image)\n"
   ]
  },
  {
   "cell_type": "code",
   "execution_count": 16,
   "metadata": {},
   "outputs": [],
   "source": [
    "# print(\"--- %s seconds ---\" % (time.time() - start_time))"
   ]
  },
  {
   "cell_type": "code",
   "execution_count": null,
   "metadata": {},
   "outputs": [],
   "source": []
  },
  {
   "cell_type": "code",
   "execution_count": null,
   "metadata": {},
   "outputs": [],
   "source": []
  },
  {
   "cell_type": "code",
   "execution_count": null,
   "metadata": {},
   "outputs": [],
   "source": []
  },
  {
   "cell_type": "markdown",
   "metadata": {},
   "source": [
    "# API "
   ]
  },
  {
   "cell_type": "code",
   "execution_count": 170,
   "metadata": {
    "scrolled": true
   },
   "outputs": [],
   "source": [
    "from flask import Flask, request, redirect, jsonify\n",
    "\n",
    "from functools import wraps\n",
    "from flask_restful import Resource, Api, reqparse\n",
    "import werkzeug\n",
    "from werkzeug.utils import secure_filename\n",
    "import pandas as pd\n",
    "import ast\n",
    "\n",
    "app = Flask(__name__)\n",
    "api = Api(app)"
   ]
  },
  {
   "cell_type": "code",
   "execution_count": 171,
   "metadata": {},
   "outputs": [
    {
     "data": {
      "text/plain": [
       "Map([<Rule '/static/<filename>' (OPTIONS, HEAD, GET) -> static>])"
      ]
     },
     "execution_count": 171,
     "metadata": {},
     "output_type": "execute_result"
    }
   ],
   "source": [
    "# app.url_map"
   ]
  },
  {
   "cell_type": "code",
   "execution_count": 172,
   "metadata": {},
   "outputs": [],
   "source": [
    "class UploadImage(Resource):\n",
    "    def post(self):\n",
    "        result = []\n",
    "        parse = reqparse.RequestParser()\n",
    "        parse.add_argument('image', type=werkzeug.datastructures.FileStorage, location='files')\n",
    "        args = parse.parse_args()\n",
    "        image_file = args.get(\"image\")\n",
    "        \n",
    "        if image_file is not None:\n",
    "            filename = secure_filename(image_file.filename)\n",
    "            image_file.save(filename)\n",
    "            image = cv2.imread(filename)\n",
    "            result = retrInfo(image)\n",
    "        return result"
   ]
  },
  {
   "cell_type": "code",
   "execution_count": 173,
   "metadata": {},
   "outputs": [],
   "source": [
    "api.add_resource(UploadImage, '/api')"
   ]
  },
  {
   "cell_type": "code",
   "execution_count": 174,
   "metadata": {},
   "outputs": [
    {
     "name": "stdout",
     "output_type": "stream",
     "text": [
      " * Serving Flask app \"__main__\" (lazy loading)\n",
      " * Environment: production\n",
      "   WARNING: This is a development server. Do not use it in a production deployment.\n",
      "   Use a production WSGI server instead.\n",
      " * Debug mode: off\n"
     ]
    },
    {
     "name": "stderr",
     "output_type": "stream",
     "text": [
      " * Running on http://127.0.0.1:5000/ (Press CTRL+C to quit)\n",
      "127.0.0.1 - - [08/Dec/2021 15:32:19] \"\u001b[37mPOST /api HTTP/1.1\u001b[0m\" 200 -\n"
     ]
    },
    {
     "name": "stdout",
     "output_type": "stream",
     "text": [
      "(1, 'C')\n",
      "(2, 'D')\n",
      "(3, 'B')\n",
      "(4, 'C')\n",
      "(5, 'D')\n",
      "(6, 'A')\n",
      "(7, 'C')\n",
      "(8, 'D')\n",
      "(9, 'A')\n",
      "(10, 'D')\n",
      "(11, 'A')\n",
      "(12, 'B')\n",
      "(13, 'B')\n",
      "(14, 'D')\n",
      "(15, 'C')\n",
      "(16, 'D')\n",
      "(17, 'A')\n",
      "(18, 'A')\n",
      "(19, 'A')\n",
      "(20, 'A')\n",
      "(21, 'B')\n",
      "(22, 'A')\n",
      "(23, 'C')\n",
      "(24, 'C')\n",
      "(25, 'D')\n",
      "(26, 'C')\n",
      "(27, 'B')\n",
      "(28, 'A')\n",
      "(29, 'D')\n",
      "(30, 'B')\n",
      "(31, 'A')\n",
      "(32, 'A')\n",
      "(33, 'D')\n",
      "(34, 'D')\n",
      "(35, 'B')\n",
      "(36, 'D')\n",
      "(37, 'A')\n",
      "(38, 'D')\n",
      "(39, 'B')\n",
      "(40, 'D')\n",
      "(41, 'B')\n",
      "(42, 'C')\n",
      "(43, 'C')\n",
      "(44, 'A')\n",
      "(45, 'C')\n",
      "(46, 'C')\n",
      "(47, 'B')\n",
      "(48, 'C')\n",
      "(49, 'A')\n",
      "(50, 'C')\n",
      "(51, 'D')\n",
      "(52, 'A')\n",
      "(53, 'A')\n",
      "(54, 'A')\n",
      "(55, 'A')\n",
      "(56, 'A')\n",
      "(57, 'C')\n",
      "(58, 'B')\n",
      "(59, 'D')\n",
      "(60, 'D')\n",
      "(61, 'D')\n",
      "(62, 'C')\n",
      "(63, 'B')\n",
      "(64, 'B')\n",
      "(65, 'B')\n",
      "(66, 'C')\n",
      "(67, 'C')\n",
      "(68, 'A')\n",
      "(69, 'B')\n",
      "(70, 'B')\n",
      "(71, 'D')\n",
      "(72, 'B')\n",
      "(73, 'C')\n",
      "(74, 'C')\n",
      "(75, 'A')\n",
      "(76, 'A')\n",
      "(77, 'C')\n",
      "(78, 'C')\n",
      "(79, 'B')\n",
      "(80, 'C')\n",
      "(81, 'B')\n",
      "(82, 'A')\n",
      "(83, 'D')\n",
      "(84, 'C')\n",
      "(85, 'D')\n",
      "(86, 'C')\n",
      "(87, 'A')\n",
      "(88, 'D')\n",
      "(89, 'D')\n",
      "(90, 'C')\n",
      "(91, 'B')\n",
      "(92, 'C')\n",
      "(93, 'D')\n",
      "(94, 'C')\n",
      "(95, 'D')\n",
      "(96, 'B')\n",
      "(97, 'A')\n",
      "(98, 'B')\n",
      "(99, 'A')\n",
      "(100, 'C')\n",
      "(101, 'A')\n",
      "(102, 'B')\n",
      "(103, 'B')\n",
      "(104, 'C')\n",
      "(105, 'D')\n",
      "(106, 'D')\n",
      "(107, 'C')\n",
      "(108, 'D')\n",
      "(109, 'C')\n",
      "(110, 'C')\n",
      "(111, 'D')\n",
      "(112, 'A')\n",
      "(113, 'B')\n",
      "(114, 'C')\n",
      "(115, 'A')\n",
      "(116, 'A')\n",
      "(117, 'B')\n",
      "(118, 'C')\n",
      "(119, 'D')\n",
      "(120, 'A')\n",
      "---student id------\n",
      "(1, 4)\n",
      "(2, 4)\n",
      "(3, 1)\n",
      "(4, 8)\n",
      "(5, 3)\n",
      "(6, 5)\n",
      "---code test id------\n",
      "(1, 3)\n",
      "(2, 0)\n",
      "(3, 8)\n"
     ]
    }
   ],
   "source": [
    "app.run()"
   ]
  },
  {
   "cell_type": "code",
   "execution_count": null,
   "metadata": {},
   "outputs": [],
   "source": []
  },
  {
   "cell_type": "code",
   "execution_count": null,
   "metadata": {},
   "outputs": [],
   "source": []
  },
  {
   "cell_type": "code",
   "execution_count": null,
   "metadata": {},
   "outputs": [],
   "source": []
  },
  {
   "cell_type": "code",
   "execution_count": null,
   "metadata": {},
   "outputs": [],
   "source": []
  }
 ],
 "metadata": {
  "kernelspec": {
   "display_name": "Python 3",
   "language": "python",
   "name": "python3"
  },
  "language_info": {
   "codemirror_mode": {
    "name": "ipython",
    "version": 3
   },
   "file_extension": ".py",
   "mimetype": "text/x-python",
   "name": "python",
   "nbconvert_exporter": "python",
   "pygments_lexer": "ipython3",
   "version": "3.8.5"
  }
 },
 "nbformat": 4,
 "nbformat_minor": 4
}
