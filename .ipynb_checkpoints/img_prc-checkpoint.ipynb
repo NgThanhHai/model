{
 "cells": [
  {
   "cell_type": "code",
   "execution_count": 1,
   "metadata": {},
   "outputs": [],
   "source": [
    "# import the necessary packages\n",
    "from imutils.perspective import four_point_transform\n",
    "from imutils import contours\n",
    "from math import ceil\n",
    "from matplotlib import pyplot as plt\n",
    "import numpy as np\n",
    "import imutils\n",
    "import cv2\n",
    "import os\n",
    "import time\n",
    "from keras.models import load_model\n"
   ]
  },
  {
   "cell_type": "code",
   "execution_count": 2,
   "metadata": {},
   "outputs": [],
   "source": [
    "# import sys\n",
    "# sys.path.append(\"E:\\Python 3.7\\Lib\\site-packages\")\n",
    "# print(sys.path)"
   ]
  },
  {
   "cell_type": "code",
   "execution_count": 3,
   "metadata": {},
   "outputs": [],
   "source": [
    "model = load_model('weight.h5')\n",
    "model.compile(loss='binary_crossentropy',\n",
    "              optimizer='rmsprop',\n",
    "              metrics=['accuracy'])"
   ]
  },
  {
   "cell_type": "code",
   "execution_count": 4,
   "metadata": {},
   "outputs": [],
   "source": [
    "def get_xval(answer): # dạng của s (image, [x, y, w, h])\n",
    "    return answer[1][0]\n",
    "\n",
    "def is_rect(cnt):\n",
    "    peri = cv2.arcLength(c, True)\n",
    "    approx = cv2.approxPolyDP(c, 0.02 * peri, True)\n",
    "        \n",
    "    #if our approximated contour has four points,\n",
    "    # then we can assume we have found the paper\n",
    "    if len(approx) == 4:\n",
    "        return True\n",
    "    return False\n",
    "\n",
    "def show_img(img):\n",
    "    cv2.imshow('img', img)\n",
    "    cv2.waitKey(0)\n",
    "    \n",
    "def show_resized_img(img, width, height):\n",
    "    resized_image = cv2.resize(img, (width, height))\n",
    "    cv2.imshow('img', resized_image)\n",
    "    cv2.waitKey(0)"
   ]
  },
  {
   "cell_type": "code",
   "execution_count": 5,
   "metadata": {},
   "outputs": [],
   "source": [
    "def resize_img_data(img):\n",
    "    img = cv2.resize(img, (28, 28), cv2.INTER_AREA)\n",
    "    img = img.reshape((28, 28, 1))\n",
    "    img = np.reshape(img,[1,28,28,1])\n",
    "    return img"
   ]
  },
  {
   "cell_type": "code",
   "execution_count": null,
   "metadata": {},
   "outputs": [],
   "source": []
  },
  {
   "cell_type": "code",
   "execution_count": 6,
   "metadata": {},
   "outputs": [],
   "source": [
    "def thresh_img(image):\n",
    "\n",
    "    # ADAPTIVE_THRESH_MEAN_C\n",
    "    # ADAPTIVE_THRESH_GAUSSIAN_C\n",
    "\n",
    "    gray = cv2.cvtColor(image, cv2.COLOR_BGR2GRAY)\n",
    "    blurred = cv2.GaussianBlur(gray, (5, 5), 0)\n",
    "#     blurred = cv2.medianBlur(gray, 5)\n",
    "#     thresh = cv2.Canny(blurred, 75, 200)\n",
    "\n",
    "#     thresh = cv2.threshold(blurred, 0, 255, cv2.THRESH_BINARY_INV | cv2.THRESH_OTSU)[1]\n",
    "\n",
    "    thresh = cv2.adaptiveThreshold(blurred, 255, cv2.ADAPTIVE_THRESH_MEAN_C, cv2.THRESH_BINARY_INV, 11, 3)\n",
    "    \n",
    "#     thresh = cv2.dilate(thresh,None,iterations = 1)\n",
    "#     thresh = cv2.erode(thresh,None,iterations = 1)\n",
    "    \n",
    "    sx = cv2.Sobel(thresh, cv2.CV_32F, 1, 0)\n",
    "    sy = cv2.Sobel(thresh, cv2.CV_32F, 0, 1)\n",
    "    m = cv2.magnitude(sx, sy)\n",
    "    thresh = cv2.normalize(m, None, 0.0, 255.0, cv2.NORM_MINMAX, cv2.CV_8U)\n",
    "    \n",
    "\n",
    "#     show_img(gray)\n",
    "#     show_img(blurred)\n",
    "#     show_img(thresh)\n",
    "    \n",
    "    return thresh"
   ]
  },
  {
   "cell_type": "code",
   "execution_count": 7,
   "metadata": {},
   "outputs": [],
   "source": [
    "def retr_codetest_id(code_test_img):\n",
    "    \n",
    "    #new method 27/01/2022\n",
    "    \n",
    "    code_id = {}\n",
    "    \n",
    "    legal_filled = 1\n",
    "    \n",
    "    code_test_img = cv2.cvtColor(code_test_img, cv2.COLOR_BGR2GRAY)\n",
    "    code_test_img = cv2.threshold(code_test_img, 0, 255, cv2.THRESH_BINARY_INV | cv2.THRESH_OTSU)[1]\n",
    "    \n",
    "    code_test_cols = np.array_split(code_test_img, 3, 1)\n",
    "\n",
    "    for i, cols in enumerate(code_test_cols):\n",
    "#         show_img(cols)\n",
    "\n",
    "\n",
    "        filled_idx = []\n",
    "        choice = []\n",
    "        \n",
    "        code_id_bubble = np.array_split(cols, 10, 0)\n",
    "        for j, b in enumerate(code_id_bubble):\n",
    "            \n",
    "\n",
    "            temp_bb = resize_img_data(b.copy())\n",
    "            classes = model.predict_on_batch(temp_bb)\n",
    "            classes = list(classes[0])\n",
    "            \n",
    "            if(classes[1] > 0.9):\n",
    "                filled_idx.append(j)                \n",
    "        \n",
    "        if len(filled_idx) > legal_filled:\n",
    "            choice = 'illegal'\n",
    "        elif len(filled_idx) == 0:\n",
    "            choice = \"blank\"\n",
    "        else:\n",
    "            choice = filled_idx\n",
    "            \n",
    "        code_id[str(i + 1)] = choice\n",
    "    \n",
    "    \n",
    "    #old method\n",
    "    \n",
    "#     code_id = {}\n",
    "    \n",
    "#     code_test_img = cv2.cvtColor(code_test_img, cv2.COLOR_BGR2GRAY)\n",
    "#     code_test_img = cv2.threshold(code_test_img, 0, 255, cv2.THRESH_BINARY_INV | cv2.THRESH_OTSU)[1]\n",
    "    \n",
    "#     code_test_cols = np.array_split(code_test_img, 3, 1)\n",
    "\n",
    "#     for i, cols in enumerate(code_test_cols):\n",
    "# #         show_img(cols)\n",
    "\n",
    "#         max_nonz = 0\n",
    "#         filled_idx = -1\n",
    "        \n",
    "#         code_id_bubble = np.array_split(cols, 10, 0)\n",
    "#         for j, b in enumerate(code_id_bubble):\n",
    "# #             show_resized_img(b, 250, 250)\n",
    "# #             show_img(b)\n",
    "#             curr_nonz = cv2.countNonZero(b)\n",
    "#             if curr_nonz > max_nonz:\n",
    "#                 filled_idx = j\n",
    "#                 max_nonz = curr_nonz    \n",
    "#         code_id[str(i + 1)] = str(filled_idx)\n",
    "    return code_id"
   ]
  },
  {
   "cell_type": "code",
   "execution_count": 8,
   "metadata": {},
   "outputs": [],
   "source": [
    "def retr_student_id(student_id_img):\n",
    "    \n",
    "    student_id = {}\n",
    "    \n",
    "    legal_filled = 1\n",
    "    \n",
    "    \n",
    "    student_id_img = cv2.cvtColor(student_id_img, cv2.COLOR_BGR2GRAY)\n",
    "    student_id_img = cv2.threshold(student_id_img, 0, 255, cv2.THRESH_BINARY_INV | cv2.THRESH_OTSU)[1]\n",
    "    \n",
    "    student_id_cols = np.array_split(student_id_img, 6, 1)\n",
    "    \n",
    "    for i, cols in enumerate(student_id_cols):\n",
    "\n",
    "        \n",
    "        student_id_bubble = np.array_split(cols, 10, 0)\n",
    "\n",
    "        filled_idx = []\n",
    "        choice = []\n",
    "\n",
    "        for j, b in enumerate(student_id_bubble):\n",
    "            \n",
    "#             print('student id')\n",
    "#             print(i + 1 , j + 1)\n",
    "#             show_img(b)\n",
    "            \n",
    "            temp_bb = resize_img_data(b.copy())\n",
    "            classes = model.predict_on_batch(temp_bb)\n",
    "            classes = list(classes[0])\n",
    "            \n",
    "            if(classes[1] > 0.9):\n",
    "                filled_idx.append(j)\n",
    "                \n",
    "#                 print('student id')\n",
    "#                 print(i + 1 , j + 1)\n",
    "#                 show_img(b)\n",
    "\n",
    "                \n",
    "        if len(filled_idx) > legal_filled:\n",
    "            choice = 'illegal'\n",
    "        elif len(filled_idx) == 0:\n",
    "            choice = \"blank\"\n",
    "        else:\n",
    "            choice = filled_idx\n",
    "            \n",
    "        student_id[str(i + 1)] = choice\n",
    "    \n",
    "    \n",
    "    \n",
    "    #old method\n",
    "    \n",
    "#     student_id = {}\n",
    "    \n",
    "#     student_id_img = cv2.cvtColor(student_id_img, cv2.COLOR_BGR2GRAY)\n",
    "#     student_id_img = cv2.threshold(student_id_img, 0, 255, cv2.THRESH_BINARY_INV | cv2.THRESH_OTSU)[1]\n",
    "    \n",
    "#     student_id_cols = np.array_split(student_id_img, 6, 1)\n",
    "    \n",
    "#     for i, cols in enumerate(student_id_cols):\n",
    "# #         show_img(cols)\n",
    "\n",
    "#         max_nonz = 0\n",
    "#         filled_idx = -1\n",
    "        \n",
    "#         student_id_bubble = np.array_split(cols, 10, 0)\n",
    "#         for j, b in enumerate(student_id_bubble):\n",
    "# #             show_resized_img(b, 250, 250)\n",
    "# #             show_img(b)\n",
    "#             curr_nonz = cv2.countNonZero(b)\n",
    "#             if curr_nonz > max_nonz:\n",
    "#                 filled_idx = j\n",
    "#                 max_nonz = curr_nonz    \n",
    "#         student_id[str(i + 1)] = str(filled_idx)\n",
    "    return student_id"
   ]
  },
  {
   "cell_type": "code",
   "execution_count": 9,
   "metadata": {},
   "outputs": [],
   "source": [
    "def get_choice(argument):\n",
    "    switcher = {\n",
    "        0: \"A\",\n",
    "        1: \"B\",\n",
    "        2: \"C\",\n",
    "        3: \"D\",\n",
    "    }\n",
    "    return switcher.get(argument, \"blank\")"
   ]
  },
  {
   "cell_type": "code",
   "execution_count": 10,
   "metadata": {},
   "outputs": [],
   "source": [
    "def get_answer(answer_list):\n",
    "    \n",
    "    key_gen = {}\n",
    "    \n",
    "    legal_filled = 1\n",
    "    \n",
    "    for i, ans in enumerate(answer_list):\n",
    "        ans = cv2.cvtColor(ans, cv2.COLOR_BGR2GRAY)\n",
    "        ans = cv2.threshold(ans, 0, 255, cv2.THRESH_BINARY_INV | cv2.THRESH_OTSU)[1]\n",
    "        \n",
    "        bubble_row = np.array_split(ans, 5, 1)\n",
    "        bubble_row.pop(0)\n",
    "        \n",
    "        \n",
    "        filled_idx = []\n",
    "        choice = []\n",
    "        \n",
    "        for j, b in enumerate(bubble_row):\n",
    "            temp_bb = resize_img_data(b.copy())\n",
    "            classes = model.predict_on_batch(temp_bb)\n",
    "            classes = list(classes[0])\n",
    "            \n",
    "            if(classes[1] > 0.9):\n",
    "                filled_idx.append(j)\n",
    "        \n",
    "        if len(filled_idx) > legal_filled:\n",
    "            choice = 'illegal'\n",
    "        elif len(filled_idx) > 0:\n",
    "            for idx in filled_idx:\n",
    "                choice.append(get_choice(idx))\n",
    "        else:\n",
    "            choice = \"blank\"\n",
    "        \n",
    "        key_gen[str(i + 1)] = choice\n",
    "    \n",
    "    \n",
    "    #old method\n",
    "    \n",
    "#     key_gen = {}\n",
    "    \n",
    "#     for i, ans in enumerate(answer_list):\n",
    "#         ans = cv2.cvtColor(ans, cv2.COLOR_BGR2GRAY)\n",
    "#         ans = cv2.threshold(ans, 0, 255, cv2.THRESH_BINARY_INV | cv2.THRESH_OTSU)[1]\n",
    "        \n",
    "#         arr_choice = []\n",
    "        \n",
    "# #         show_img(ans)\n",
    "#         bubble_row = np.array_split(ans, 5, 1)\n",
    "#         bubble_row.pop(0)\n",
    "        \n",
    "#         max_nonz = 0\n",
    "#         choice = ''\n",
    "#         filled_idx = -1\n",
    "#         for j, b in enumerate(bubble_row):\n",
    "#             curr_nonz = cv2.countNonZero(b)\n",
    "# #             show_img(b)\n",
    "#             if curr_nonz > max_nonz:\n",
    "#                 filled_idx = j\n",
    "#                 max_nonz = curr_nonz\n",
    "                \n",
    "#         choice = get_choice(filled_idx)\n",
    "        \n",
    "#         arr_choice.append(choice)\n",
    "#         key_gen[str(i + 1)] = arr_choice\n",
    "    return key_gen"
   ]
  },
  {
   "cell_type": "code",
   "execution_count": 11,
   "metadata": {},
   "outputs": [],
   "source": [
    "def retr_choice(sorted_ans_blocks):\n",
    "    #collect answer\n",
    "    box_distance = 10\n",
    "\n",
    "    answer_list = []\n",
    "    key_gen = []\n",
    "    \n",
    "    for ans_block in sorted_ans_blocks:\n",
    "        img = np.array(ans_block[0]) #take each answer block image\n",
    "\n",
    "        #take each answer box\n",
    "        box_img_rows = np.array_split(img, 6, 0)\n",
    "        \n",
    "        for tmp_img in box_img_rows: \n",
    "            img = tmp_img[box_distance:tmp_img.shape[0]-box_distance, :]\n",
    "            \n",
    "#             show_img(img)\n",
    "            answer_rows = np.array_split(img, 5, 0)\n",
    "            for j in answer_rows:\n",
    "                answer_list.append(j)\n",
    "#                 show_img(j)\n",
    "                \n",
    "    key_gen = get_answer(answer_list)\n",
    "    return key_gen"
   ]
  },
  {
   "cell_type": "code",
   "execution_count": null,
   "metadata": {},
   "outputs": [],
   "source": []
  },
  {
   "cell_type": "code",
   "execution_count": 12,
   "metadata": {},
   "outputs": [],
   "source": [
    "def retrInfo(org_img):\n",
    "    # find contours in the edge map, then initialize\n",
    "    # the contour that corresponds to the document\n",
    "    result = {}\n",
    "    image = org_img.copy()\n",
    "    \n",
    "    thresh = thresh_img(image)\n",
    "    cnts = cv2.findContours(thresh.copy(), cv2.RETR_EXTERNAL, cv2.CHAIN_APPROX_NONE)\n",
    "    cnts = imutils.grab_contours(cnts)\n",
    "\n",
    "    answer_block = []\n",
    "\n",
    "    # ensure that at least one contour was found\n",
    "    if len(cnts) > 0:\n",
    "        # sort the contours according to their size in\n",
    "        # descending order\n",
    "\n",
    "        cnts = sorted(cnts, key=cv2.contourArea, reverse=True)\n",
    "        \n",
    "#         cv2.drawContours(img, cnts, -1, (0, 255, 0), 3)\n",
    "#         show_img(img)\n",
    "        \n",
    "    \n",
    "        answer_block_coor = cnts[0:4]\n",
    "\n",
    "        student_id_coor = cnts[6]\n",
    "        code_test_coor = cnts[7]\n",
    "\n",
    "        # loop over the sorted contours\n",
    "        for c in answer_block_coor:\n",
    "            # approximate the contour\n",
    "\n",
    "            x,y,w,h = cv2.boundingRect(c)\n",
    "            answer_block.append((image[y:y + h, x:x + w], [x, y, w, h]))\n",
    "#             show_img(image[y:y + h, x:x + w])\n",
    "\n",
    "            #collect answer block\n",
    "        sorted_ans_blocks = sorted(answer_block, key=get_xval)\n",
    "        \n",
    "        key_gen = retr_choice(sorted_ans_blocks)\n",
    "        \n",
    "        x,y,w,h = cv2.boundingRect(student_id_coor)\n",
    "        student_id_img = image[y:y + h, x:x + w]\n",
    "        \n",
    "#         show_img(student_id_img)\n",
    "        student_id_block = retr_student_id(student_id_img)\n",
    "            \n",
    "        x,y,w,h = cv2.boundingRect(code_test_coor)\n",
    "        code_test_img = image[y:y + h, x:x + w]\n",
    "#         show_img(code_test_img)\n",
    "        \n",
    "        code_id = retr_codetest_id(code_test_img)\n",
    "    \n",
    "        \n",
    "        student_str = ''\n",
    "        for value in student_id_block.values():\n",
    "            if value == 'blank' or value == 'illegal':\n",
    "                student_str += '-'\n",
    "            else: \n",
    "                student_str += str(value[0])\n",
    "                \n",
    "        code_str = ''\n",
    "        for value in code_id.values():\n",
    "            if value == 'blank' or value == 'illegal':\n",
    "                code_str += '-'\n",
    "            else: \n",
    "                code_str += str(value[0])\n",
    "    \n",
    "    \n",
    "    \n",
    "    \n",
    "    result['answer'] = key_gen\n",
    "    result['student_id'] = student_str\n",
    "    result['code_id'] = code_str\n",
    "#     result.append(key_gen)\n",
    "#     result.append(student_id_block)\n",
    "#     result.append(code_id)\n",
    "    return result"
   ]
  },
  {
   "cell_type": "code",
   "execution_count": null,
   "metadata": {},
   "outputs": [],
   "source": []
  },
  {
   "cell_type": "code",
   "execution_count": null,
   "metadata": {},
   "outputs": [],
   "source": []
  },
  {
   "cell_type": "code",
   "execution_count": null,
   "metadata": {},
   "outputs": [],
   "source": []
  },
  {
   "cell_type": "code",
   "execution_count": null,
   "metadata": {},
   "outputs": [],
   "source": []
  },
  {
   "cell_type": "code",
   "execution_count": 13,
   "metadata": {},
   "outputs": [],
   "source": [
    "# start_time = time.time()"
   ]
  },
  {
   "cell_type": "code",
   "execution_count": 14,
   "metadata": {
    "scrolled": true
   },
   "outputs": [],
   "source": [
    "# for i in range(200):\n",
    "#     filename = 'answer_gen/ans_' + str(i + 1) + '.png'\n",
    "#     image = cv2.imread(filename)\n",
    "    \n",
    "#     print('---------------Scanning img ' + str(i + 1) + '--------------------------')\n",
    "#     retrInfo(image)\n"
   ]
  },
  {
   "cell_type": "code",
   "execution_count": 15,
   "metadata": {},
   "outputs": [],
   "source": [
    "# print(\"--- %s seconds ---\" % (time.time() - start_time))"
   ]
  },
  {
   "cell_type": "code",
   "execution_count": null,
   "metadata": {},
   "outputs": [],
   "source": []
  },
  {
   "cell_type": "code",
   "execution_count": null,
   "metadata": {},
   "outputs": [],
   "source": []
  },
  {
   "cell_type": "code",
   "execution_count": null,
   "metadata": {},
   "outputs": [],
   "source": []
  },
  {
   "cell_type": "markdown",
   "metadata": {},
   "source": [
    "# API "
   ]
  },
  {
   "cell_type": "code",
   "execution_count": 16,
   "metadata": {
    "scrolled": true
   },
   "outputs": [],
   "source": [
    "from flask import Flask, request, redirect, jsonify\n",
    "import urllib\n",
    "import numpy as np\n",
    "import json\n",
    "\n",
    "from functools import wraps\n",
    "from flask_restful import Resource, Api, reqparse\n",
    "import werkzeug\n",
    "from werkzeug.utils import secure_filename\n",
    "import pandas as pd\n",
    "import ast\n",
    "from flask_cors import CORS\n",
    "\n",
    "app = Flask(__name__)\n",
    "CORS(app)\n",
    "api = Api(app)"
   ]
  },
  {
   "cell_type": "code",
   "execution_count": 17,
   "metadata": {},
   "outputs": [],
   "source": [
    "def url_to_image(url):\n",
    "    # download the image, convert it to a NumPy array, and then read\n",
    "    # it into OpenCV format\n",
    "    resp = urllib.request.urlopen(url)\n",
    "    image = np.asarray(bytearray(resp.read()), dtype=\"uint8\")\n",
    "    image = cv2.imdecode(image, cv2.IMREAD_COLOR)\n",
    "    # return the image\n",
    "    return image"
   ]
  },
  {
   "cell_type": "code",
   "execution_count": 18,
   "metadata": {},
   "outputs": [],
   "source": [
    "# app.url_map"
   ]
  },
  {
   "cell_type": "code",
   "execution_count": 19,
   "metadata": {},
   "outputs": [],
   "source": [
    "class UploadImage(Resource):\n",
    "    def post(self):\n",
    "        result = {}\n",
    "        url = request.get_data()\n",
    "        url_js = json.loads(url)\n",
    "#         print('data sending : ' + str(url_js))\n",
    "\n",
    "        image = url_to_image(url_js['url'])\n",
    "        result = retrInfo(image)\n",
    "        \n",
    "        url_js['result'] = result\n",
    "        return url_js"
   ]
  },
  {
   "cell_type": "code",
   "execution_count": 20,
   "metadata": {},
   "outputs": [],
   "source": [
    "api.add_resource(UploadImage, '/api')"
   ]
  },
  {
   "cell_type": "code",
   "execution_count": 21,
   "metadata": {},
   "outputs": [
    {
     "name": "stdout",
     "output_type": "stream",
     "text": [
      " * Serving Flask app \"__main__\" (lazy loading)\n",
      " * Environment: production\n",
      "   WARNING: This is a development server. Do not use it in a production deployment.\n",
      "   Use a production WSGI server instead.\n",
      " * Debug mode: off\n"
     ]
    },
    {
     "name": "stderr",
     "output_type": "stream",
     "text": [
      " * Running on http://127.0.0.1:5000/ (Press CTRL+C to quit)\n",
      "127.0.0.1 - - [28/Jan/2022 21:14:27] \"\u001b[37mPOST /api HTTP/1.1\u001b[0m\" 200 -\n",
      "127.0.0.1 - - [28/Jan/2022 21:22:53] \"\u001b[37mOPTIONS /api HTTP/1.1\u001b[0m\" 200 -\n",
      "127.0.0.1 - - [28/Jan/2022 21:24:51] \"\u001b[37mOPTIONS /api HTTP/1.1\u001b[0m\" 200 -\n",
      "127.0.0.1 - - [28/Jan/2022 21:24:55] \"\u001b[37mOPTIONS /api HTTP/1.1\u001b[0m\" 200 -\n"
     ]
    }
   ],
   "source": [
    "app.run()"
   ]
  },
  {
   "cell_type": "code",
   "execution_count": null,
   "metadata": {},
   "outputs": [],
   "source": []
  },
  {
   "cell_type": "code",
   "execution_count": 22,
   "metadata": {},
   "outputs": [],
   "source": [
    "# url = []\n",
    "\n",
    "# temp_url = \"https://res.cloudinary.com/dunbjnt9i/image/upload/v1643344505/test-img/omr_org_cp3_rjrljk.png\"\n",
    "# for i in range(50):\n",
    "#     url.append(str(temp_url))\n",
    "# url"
   ]
  },
  {
   "cell_type": "code",
   "execution_count": 23,
   "metadata": {},
   "outputs": [
    {
     "name": "stdout",
     "output_type": "stream",
     "text": [
      "Collecting flask-corsNote: you may need to restart the kernel to use updated packages.\n",
      "\n",
      "  Downloading Flask_Cors-3.0.10-py2.py3-none-any.whl (14 kB)\n",
      "Requirement already satisfied: Flask>=0.9 in f:\\anaconda\\lib\\site-packages (from flask-cors) (1.1.2)\n",
      "Requirement already satisfied: Six in f:\\anaconda\\lib\\site-packages (from flask-cors) (1.15.0)\n",
      "Requirement already satisfied: Werkzeug>=0.15 in f:\\anaconda\\lib\\site-packages (from Flask>=0.9->flask-cors) (1.0.1)\n",
      "Requirement already satisfied: Jinja2>=2.10.1 in f:\\anaconda\\lib\\site-packages (from Flask>=0.9->flask-cors) (2.11.2)\n",
      "Requirement already satisfied: click>=5.1 in f:\\anaconda\\lib\\site-packages (from Flask>=0.9->flask-cors) (7.1.2)\n",
      "Requirement already satisfied: itsdangerous>=0.24 in f:\\anaconda\\lib\\site-packages (from Flask>=0.9->flask-cors) (1.1.0)\n",
      "Requirement already satisfied: MarkupSafe>=0.23 in f:\\anaconda\\lib\\site-packages (from Jinja2>=2.10.1->Flask>=0.9->flask-cors) (1.1.1)\n",
      "Installing collected packages: flask-cors\n"
     ]
    },
    {
     "name": "stderr",
     "output_type": "stream",
     "text": [
      "WARNING: Error parsing requirements for jupyter-highlight-selected-word: [Errno 2] No such file or directory: 'f:\\\\anaconda\\\\lib\\\\site-packages\\\\jupyter_highlight_selected_word-0.2.0.dist-info\\\\METADATA'\n",
      "WARNING: Error parsing requirements for jupyter-contrib-nbextensions: [Errno 2] No such file or directory: 'f:\\\\anaconda\\\\lib\\\\site-packages\\\\jupyter_contrib_nbextensions-0.5.1.dist-info\\\\METADATA'\n"
     ]
    },
    {
     "name": "stdout",
     "output_type": "stream",
     "text": [
      "Successfully installed flask-cors-3.0.10\n"
     ]
    }
   ],
   "source": [
    "pip install flask-cors --user"
   ]
  },
  {
   "cell_type": "code",
   "execution_count": null,
   "metadata": {},
   "outputs": [],
   "source": []
  }
 ],
 "metadata": {
  "kernelspec": {
   "display_name": "Python 3",
   "language": "python",
   "name": "python3"
  },
  "language_info": {
   "codemirror_mode": {
    "name": "ipython",
    "version": 3
   },
   "file_extension": ".py",
   "mimetype": "text/x-python",
   "name": "python",
   "nbconvert_exporter": "python",
   "pygments_lexer": "ipython3",
   "version": "3.8.5"
  }
 },
 "nbformat": 4,
 "nbformat_minor": 4
}
