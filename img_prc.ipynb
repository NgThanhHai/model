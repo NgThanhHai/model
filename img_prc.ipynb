{
 "cells": [
  {
   "cell_type": "code",
   "execution_count": 25,
   "metadata": {},
   "outputs": [],
   "source": [
    "import cv2"
   ]
  },
  {
   "cell_type": "code",
   "execution_count": null,
   "metadata": {},
   "outputs": [],
   "source": []
  },
  {
   "cell_type": "markdown",
   "metadata": {},
   "source": [
    "# API "
   ]
  },
  {
   "cell_type": "code",
   "execution_count": 26,
   "metadata": {},
   "outputs": [],
   "source": [
    "from flask import Flask, request, redirect, jsonify\n",
    "import urllib\n",
    "import numpy as np\n",
    "import json\n",
    "\n",
    "from functools import wraps\n",
    "from flask_restful import Resource, Api, reqparse\n",
    "import pandas as pd\n",
    "\n",
    "from multiprocessing import Pool\n",
    "import threading\n",
    "\n",
    "import imgprc.fst as fst\n",
    "\n",
    "from rq import Queue\n",
    "from worker import conn\n",
    "\n",
    "q = Queue(connection=conn)\n",
    "\n",
    "app = Flask(__name__)\n",
    "api = Api(app)"
   ]
  },
  {
   "cell_type": "code",
   "execution_count": 27,
   "metadata": {},
   "outputs": [],
   "source": [
    "def url_to_image(url):\n",
    "    # download the image, convert it to a NumPy array, and then read\n",
    "    # it into OpenCV format\n",
    "    resp = urllib.request.urlopen(url)\n",
    "    image = np.asarray(bytearray(resp.read()), dtype=\"uint8\")\n",
    "    image = cv2.imdecode(image, cv2.IMREAD_COLOR)\n",
    "    # return the image\n",
    "    return image\n",
    "\n",
    "def func_thread(image, out):\n",
    "    out.append(worker.retrInfo(image))"
   ]
  },
  {
   "cell_type": "code",
   "execution_count": 28,
   "metadata": {},
   "outputs": [],
   "source": [
    "# app.url_map"
   ]
  },
  {
   "cell_type": "code",
   "execution_count": 29,
   "metadata": {},
   "outputs": [],
   "source": [
    "class UploadImage(Resource):\n",
    "    def post(self):\n",
    "        child_result = {}\n",
    "        result  = []\n",
    "        \n",
    "        url = request.get_data()\n",
    "        url_js = json.loads(url)\n",
    "\n",
    "        arr_url = (url_js['url'])\n",
    "        \n",
    "        for url in arr_url:\n",
    "            image = url_to_image(url)\n",
    "            child_result = fst.retrInfo(image)\n",
    "            child_result = q.enqueue(fst.retrInfo, image)        \n",
    "        \n",
    "            result.append(child_result)\n",
    "        url_js['result'] = result\n",
    "\n",
    "\n",
    "\n",
    "#         arr_url = (url_js['url'])\n",
    "#         arr_img = []\n",
    "#         for url in arr_url:\n",
    "#             arr_img.append(url_to_image(url))\n",
    "                    \n",
    "    \n",
    "#         multiprocessing\n",
    "#         num_processors = 4\n",
    "#         p = Pool(processes = num_processors)\n",
    "#         results = [p.apply_async(worker.retrInfo, args=(img,)) for img in arr_img]\n",
    "#         output = [p.get() for p in results]\n",
    "#         url_js['result'] = output\n",
    "        \n",
    "    \n",
    "        #multithread\n",
    "#         thread_list = []\n",
    "#         results = []\n",
    "        \n",
    "#         for img in arr_img:\n",
    "#             thread = threading.Thread(target=func_thread, args=(img, results))\n",
    "#             thread_list.append(thread)\n",
    "            \n",
    "            \n",
    "#         for thread in thread_list:\n",
    "#             thread.start()\n",
    "#         for thread in thread_list:\n",
    "#             thread.join()\n",
    "            \n",
    "#         url_js['result'] = results\n",
    "        \n",
    "        return url_js"
   ]
  },
  {
   "cell_type": "code",
   "execution_count": 30,
   "metadata": {},
   "outputs": [],
   "source": [
    "api.add_resource(UploadImage, '/api')"
   ]
  },
  {
   "cell_type": "code",
   "execution_count": 31,
   "metadata": {},
   "outputs": [
    {
     "name": "stdout",
     "output_type": "stream",
     "text": [
      " * Serving Flask app \"__main__\" (lazy loading)\n",
      " * Environment: production\n",
      "   WARNING: This is a development server. Do not use it in a production deployment.\n",
      "   Use a production WSGI server instead.\n",
      " * Debug mode: off\n"
     ]
    },
    {
     "name": "stderr",
     "output_type": "stream",
     "text": [
      " * Running on http://127.0.0.1:5000/ (Press CTRL+C to quit)\n",
      "127.0.0.1 - - [20/Feb/2022 21:02:21] \"\u001b[37mPOST /api HTTP/1.1\u001b[0m\" 200 -\n"
     ]
    },
    {
     "name": "stdout",
     "output_type": "stream",
     "text": [
      "<Job dd2969e4-4f91-41d1-a298-522e58caa331: imgprc.fst.retrInfo(array([[[ 57,  55,  51],\n",
      "        [ 57,  55,  51],\n",
      "        [ 57,  55,  51],\n",
      "...)>\n"
     ]
    }
   ],
   "source": [
    "app.run()"
   ]
  },
  {
   "cell_type": "code",
   "execution_count": null,
   "metadata": {},
   "outputs": [],
   "source": []
  },
  {
   "cell_type": "code",
   "execution_count": 32,
   "metadata": {},
   "outputs": [],
   "source": [
    "# url = []\n",
    "\n",
    "# temp_url = \"https://res.cloudinary.com/dunbjnt9i/image/upload/v1643344505/test-img/omr_org_cp3_rjrljk.png\"\n",
    "# for i in range(100):\n",
    "#     url.append(str(temp_url))\n",
    "# url"
   ]
  },
  {
   "cell_type": "code",
   "execution_count": null,
   "metadata": {},
   "outputs": [],
   "source": []
  },
  {
   "cell_type": "code",
   "execution_count": null,
   "metadata": {},
   "outputs": [],
   "source": []
  }
 ],
 "metadata": {
  "kernelspec": {
   "display_name": "Python 3",
   "language": "python",
   "name": "python3"
  },
  "language_info": {
   "codemirror_mode": {
    "name": "ipython",
    "version": 3
   },
   "file_extension": ".py",
   "mimetype": "text/x-python",
   "name": "python",
   "nbconvert_exporter": "python",
   "pygments_lexer": "ipython3",
   "version": "3.8.5"
  }
 },
 "nbformat": 4,
 "nbformat_minor": 4
}
