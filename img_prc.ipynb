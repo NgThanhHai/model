{
 "cells": [
  {
   "cell_type": "code",
   "execution_count": 1,
   "metadata": {},
   "outputs": [],
   "source": [
    "# import the necessary packages\n",
    "from imutils.perspective import four_point_transform\n",
    "from imutils import contours\n",
    "from math import ceil\n",
    "from matplotlib import pyplot as plt\n",
    "import numpy as np\n",
    "import imutils\n",
    "import cv2\n",
    "import os\n",
    "import time"
   ]
  },
  {
   "cell_type": "code",
   "execution_count": 2,
   "metadata": {},
   "outputs": [],
   "source": [
    "# import sys\n",
    "# sys.path.append(\"E:\\Python 3.7\\Lib\\site-packages\")\n",
    "# print(sys.path)"
   ]
  },
  {
   "cell_type": "code",
   "execution_count": null,
   "metadata": {},
   "outputs": [],
   "source": []
  },
  {
   "cell_type": "code",
   "execution_count": 3,
   "metadata": {},
   "outputs": [],
   "source": [
    "def get_xval(answer): # dạng của s (image, [x, y, w, h])\n",
    "    return answer[1][0]\n",
    "\n",
    "def is_rect(cnt):\n",
    "    peri = cv2.arcLength(c, True)\n",
    "    approx = cv2.approxPolyDP(c, 0.02 * peri, True)\n",
    "        \n",
    "    #if our approximated contour has four points,\n",
    "    # then we can assume we have found the paper\n",
    "    if len(approx) == 4:\n",
    "        return True\n",
    "    return False\n",
    "\n",
    "def show_img(img):\n",
    "    cv2.imshow('img', img)\n",
    "    cv2.waitKey(0)\n",
    "    \n",
    "def show_resized_img(img, width, height):\n",
    "    resized_image = cv2.resize(img, (width, height))\n",
    "    cv2.imshow('img', resized_image)\n",
    "    cv2.waitKey(0)"
   ]
  },
  {
   "cell_type": "code",
   "execution_count": null,
   "metadata": {},
   "outputs": [],
   "source": []
  },
  {
   "cell_type": "code",
   "execution_count": null,
   "metadata": {},
   "outputs": [],
   "source": []
  },
  {
   "cell_type": "code",
   "execution_count": 4,
   "metadata": {},
   "outputs": [],
   "source": [
    "def thresh_img(image):\n",
    "\n",
    "    # ADAPTIVE_THRESH_MEAN_C\n",
    "    # ADAPTIVE_THRESH_GAUSSIAN_C\n",
    "\n",
    "    gray = cv2.cvtColor(image, cv2.COLOR_BGR2GRAY)\n",
    "    blurred = cv2.GaussianBlur(gray, (5, 5), 0)\n",
    "#     blurred = cv2.medianBlur(gray, 5)\n",
    "#     thresh = cv2.Canny(blurred, 75, 200)\n",
    "\n",
    "#     thresh = cv2.threshold(blurred, 0, 255, cv2.THRESH_BINARY_INV | cv2.THRESH_OTSU)[1]\n",
    "\n",
    "    thresh = cv2.adaptiveThreshold(blurred, 255, cv2.ADAPTIVE_THRESH_MEAN_C, cv2.THRESH_BINARY_INV, 11, 3)\n",
    "    \n",
    "#     thresh = cv2.dilate(thresh,None,iterations = 1)\n",
    "#     thresh = cv2.erode(thresh,None,iterations = 1)\n",
    "    \n",
    "    sx = cv2.Sobel(thresh, cv2.CV_32F, 1, 0)\n",
    "    sy = cv2.Sobel(thresh, cv2.CV_32F, 0, 1)\n",
    "    m = cv2.magnitude(sx, sy)\n",
    "    thresh = cv2.normalize(m, None, 0.0, 255.0, cv2.NORM_MINMAX, cv2.CV_8U)\n",
    "    \n",
    "\n",
    "#     show_img(gray)\n",
    "#     show_img(blurred)\n",
    "#     show_img(thresh)\n",
    "    \n",
    "    return thresh"
   ]
  },
  {
   "cell_type": "code",
   "execution_count": 5,
   "metadata": {},
   "outputs": [],
   "source": [
    "def retr_codetest_id(code_test_img):\n",
    "    code_id = []\n",
    "    \n",
    "    code_test_img = cv2.cvtColor(code_test_img, cv2.COLOR_BGR2GRAY)\n",
    "    code_test_img = cv2.threshold(code_test_img, 0, 255, cv2.THRESH_BINARY_INV | cv2.THRESH_OTSU)[1]\n",
    "    \n",
    "    code_test_cols = np.array_split(code_test_img, 3, 1)\n",
    "\n",
    "    for i, cols in enumerate(code_test_cols):\n",
    "#         show_img(cols)\n",
    "\n",
    "        max_nonz = 0\n",
    "        filled_idx = -1\n",
    "        \n",
    "        code_id_bubble = np.array_split(cols, 10, 0)\n",
    "        for j, b in enumerate(code_id_bubble):\n",
    "#             show_resized_img(b, 250, 250)\n",
    "#             show_img(b)\n",
    "            curr_nonz = cv2.countNonZero(b)\n",
    "            if curr_nonz > max_nonz:\n",
    "                filled_idx = j\n",
    "                max_nonz = curr_nonz    \n",
    "        code_id.append((i + 1, filled_idx))\n",
    "    return code_id"
   ]
  },
  {
   "cell_type": "code",
   "execution_count": 6,
   "metadata": {},
   "outputs": [],
   "source": [
    "def retr_student_id(student_id_img):\n",
    "    student_id = []\n",
    "    \n",
    "    student_id_img = cv2.cvtColor(student_id_img, cv2.COLOR_BGR2GRAY)\n",
    "    student_id_img = cv2.threshold(student_id_img, 0, 255, cv2.THRESH_BINARY_INV | cv2.THRESH_OTSU)[1]\n",
    "    \n",
    "    student_id_cols = np.array_split(student_id_img, 6, 1)\n",
    "    \n",
    "    for i, cols in enumerate(student_id_cols):\n",
    "#         show_img(cols)\n",
    "\n",
    "        max_nonz = 0\n",
    "        filled_idx = -1\n",
    "        \n",
    "        student_id_bubble = np.array_split(cols, 10, 0)\n",
    "        for j, b in enumerate(student_id_bubble):\n",
    "#             show_resized_img(b, 250, 250)\n",
    "#             show_img(b)\n",
    "            curr_nonz = cv2.countNonZero(b)\n",
    "            if curr_nonz > max_nonz:\n",
    "                filled_idx = j\n",
    "                max_nonz = curr_nonz    \n",
    "        student_id.append((i + 1, filled_idx))\n",
    "    return student_id"
   ]
  },
  {
   "cell_type": "code",
   "execution_count": 7,
   "metadata": {},
   "outputs": [],
   "source": [
    "def get_choice(argument):\n",
    "    switcher = {\n",
    "        0: \"A\",\n",
    "        1: \"B\",\n",
    "        2: \"C\",\n",
    "        3: \"D\",\n",
    "    }\n",
    "    return switcher.get(argument, \"blank\")"
   ]
  },
  {
   "cell_type": "code",
   "execution_count": 8,
   "metadata": {},
   "outputs": [],
   "source": [
    "def get_answer(answer_list):\n",
    "    key_gen = []\n",
    "    \n",
    "    for i, ans in enumerate(answer_list):\n",
    "        ans = cv2.cvtColor(ans, cv2.COLOR_BGR2GRAY)\n",
    "        ans = cv2.threshold(ans, 0, 255, cv2.THRESH_BINARY_INV | cv2.THRESH_OTSU)[1]\n",
    "        \n",
    "#         show_img(ans)\n",
    "        bubble_row = np.array_split(ans, 5, 1)\n",
    "        bubble_row.pop(0)\n",
    "        \n",
    "        max_nonz = 0\n",
    "        choice = ''\n",
    "        filled_idx = -1\n",
    "        for j, b in enumerate(bubble_row):\n",
    "            curr_nonz = cv2.countNonZero(b)\n",
    "#             show_img(b)\n",
    "            if curr_nonz > max_nonz:\n",
    "                filled_idx = j\n",
    "                max_nonz = curr_nonz\n",
    "                \n",
    "        choice = get_choice(filled_idx)\n",
    "        key_gen.append((i + 1, choice))\n",
    "    return key_gen"
   ]
  },
  {
   "cell_type": "code",
   "execution_count": 9,
   "metadata": {},
   "outputs": [],
   "source": [
    "def retr_choice(sorted_ans_blocks):\n",
    "    #collect answer\n",
    "    box_distance = 10\n",
    "\n",
    "    answer_list = []\n",
    "    key_gen = []\n",
    "    \n",
    "    for ans_block in sorted_ans_blocks:\n",
    "        img = np.array(ans_block[0]) #take each answer block image\n",
    "\n",
    "        #take each answer box\n",
    "        box_img_rows = np.array_split(img, 6, 0)\n",
    "        \n",
    "        for tmp_img in box_img_rows: \n",
    "            img = tmp_img[box_distance:tmp_img.shape[0]-box_distance, :]\n",
    "            \n",
    "#             show_img(img)\n",
    "            answer_rows = np.array_split(img, 5, 0)\n",
    "            for j in answer_rows:\n",
    "                answer_list.append(j)\n",
    "#                 show_img(j)\n",
    "                \n",
    "    key_gen = get_answer(answer_list)\n",
    "    return key_gen"
   ]
  },
  {
   "cell_type": "code",
   "execution_count": null,
   "metadata": {},
   "outputs": [],
   "source": []
  },
  {
   "cell_type": "code",
   "execution_count": 10,
   "metadata": {},
   "outputs": [],
   "source": [
    "def retrInfo(org_img):\n",
    "    # find contours in the edge map, then initialize\n",
    "    # the contour that corresponds to the document\n",
    "    result = []\n",
    "    image = org_img.copy()\n",
    "    \n",
    "    thresh = thresh_img(image)\n",
    "    cnts = cv2.findContours(thresh.copy(), cv2.RETR_EXTERNAL, cv2.CHAIN_APPROX_NONE)\n",
    "    cnts = imutils.grab_contours(cnts)\n",
    "\n",
    "    answer_block = []\n",
    "\n",
    "    # ensure that at least one contour was found\n",
    "    if len(cnts) > 0:\n",
    "        # sort the contours according to their size in\n",
    "        # descending order\n",
    "\n",
    "        cnts = sorted(cnts, key=cv2.contourArea, reverse=True)\n",
    "        \n",
    "#         cv2.drawContours(img, cnts, -1, (0, 255, 0), 3)\n",
    "#         show_img(img)\n",
    "        \n",
    "    \n",
    "        answer_block_coor = cnts[0:4]\n",
    "\n",
    "        student_id_coor = cnts[6]\n",
    "        code_test_coor = cnts[7]\n",
    "\n",
    "        # loop over the sorted contours\n",
    "        for c in answer_block_coor:\n",
    "            # approximate the contour\n",
    "\n",
    "            x,y,w,h = cv2.boundingRect(c)\n",
    "            answer_block.append((image[y:y + h, x:x + w], [x, y, w, h]))\n",
    "#             show_img(image[y:y + h, x:x + w])\n",
    "\n",
    "            #collect answer block\n",
    "        sorted_ans_blocks = sorted(answer_block, key=get_xval)\n",
    "        \n",
    "        key_gen = retr_choice(sorted_ans_blocks)\n",
    "        \n",
    "        for k in key_gen:\n",
    "            print(k)\n",
    "        \n",
    "        x,y,w,h = cv2.boundingRect(student_id_coor)\n",
    "        student_id_img = image[y:y + h, x:x + w]\n",
    "        \n",
    "#         show_img(student_id_img)\n",
    "        student_id_block = retr_student_id(student_id_img)\n",
    "\n",
    "        print('---student id------')\n",
    "        for num in student_id_block:\n",
    "            print(num)\n",
    "\n",
    "            \n",
    "        x,y,w,h = cv2.boundingRect(code_test_coor)\n",
    "        code_test_img = image[y:y + h, x:x + w]\n",
    "#         show_img(code_test_img)\n",
    "        \n",
    "        code_id = retr_codetest_id(code_test_img)\n",
    "\n",
    "        print('---code test id------')\n",
    "        for num in code_id:\n",
    "            print(num)\n",
    "    \n",
    "    result.append(key_gen)\n",
    "    result.append(student_id_block)\n",
    "    result.append(code_id)\n",
    "    return result"
   ]
  },
  {
   "cell_type": "code",
   "execution_count": null,
   "metadata": {},
   "outputs": [],
   "source": []
  },
  {
   "cell_type": "code",
   "execution_count": null,
   "metadata": {},
   "outputs": [],
   "source": []
  },
  {
   "cell_type": "code",
   "execution_count": null,
   "metadata": {},
   "outputs": [],
   "source": []
  },
  {
   "cell_type": "code",
   "execution_count": null,
   "metadata": {},
   "outputs": [],
   "source": []
  },
  {
   "cell_type": "code",
   "execution_count": 11,
   "metadata": {},
   "outputs": [],
   "source": [
    "# start_time = time.time()"
   ]
  },
  {
   "cell_type": "code",
   "execution_count": 12,
   "metadata": {
    "scrolled": true
   },
   "outputs": [],
   "source": [
    "# for i in range(200):\n",
    "#     filename = 'answer_gen/ans_' + str(i + 1) + '.png'\n",
    "#     image = cv2.imread(filename)\n",
    "    \n",
    "#     print('---------------Scanning img ' + str(i + 1) + '--------------------------')\n",
    "#     retrInfo(image)\n"
   ]
  },
  {
   "cell_type": "code",
   "execution_count": 13,
   "metadata": {},
   "outputs": [],
   "source": [
    "# print(\"--- %s seconds ---\" % (time.time() - start_time))"
   ]
  },
  {
   "cell_type": "code",
   "execution_count": null,
   "metadata": {},
   "outputs": [],
   "source": []
  },
  {
   "cell_type": "code",
   "execution_count": null,
   "metadata": {},
   "outputs": [],
   "source": []
  },
  {
   "cell_type": "code",
   "execution_count": null,
   "metadata": {},
   "outputs": [],
   "source": []
  },
  {
   "cell_type": "markdown",
   "metadata": {},
   "source": [
    "# API "
   ]
  },
  {
   "cell_type": "code",
   "execution_count": 26,
   "metadata": {
    "scrolled": true
   },
   "outputs": [],
   "source": [
    "from flask import Flask, request, redirect, jsonify\n",
    "import urllib\n",
    "import numpy as np\n",
    "\n",
    "from functools import wraps\n",
    "from flask_restful import Resource, Api, reqparse\n",
    "import werkzeug\n",
    "from werkzeug.utils import secure_filename\n",
    "import pandas as pd\n",
    "import ast\n",
    "\n",
    "app = Flask(__name__)\n",
    "api = Api(app)"
   ]
  },
  {
   "cell_type": "code",
   "execution_count": 27,
   "metadata": {},
   "outputs": [],
   "source": [
    "def url_to_image(url):\n",
    "    # download the image, convert it to a NumPy array, and then read\n",
    "    # it into OpenCV format\n",
    "    resp = urllib.request.urlopen(url)\n",
    "    image = np.asarray(bytearray(resp.read()), dtype=\"uint8\")\n",
    "    image = cv2.imdecode(image, cv2.IMREAD_COLOR)\n",
    "    # return the image\n",
    "    return image"
   ]
  },
  {
   "cell_type": "code",
   "execution_count": 28,
   "metadata": {},
   "outputs": [],
   "source": [
    "# app.url_map"
   ]
  },
  {
   "cell_type": "code",
   "execution_count": 29,
   "metadata": {},
   "outputs": [],
   "source": [
    "class UploadImage(Resource):\n",
    "    def post(self):\n",
    "        result = []\n",
    "        url = request.args.get('url')\n",
    "#         print(url)\n",
    "        image = url_to_image(url)\n",
    "        result = retrInfo(image)\n",
    "        return result"
   ]
  },
  {
   "cell_type": "code",
   "execution_count": 30,
   "metadata": {},
   "outputs": [],
   "source": [
    "api.add_resource(UploadImage, '/api')"
   ]
  },
  {
   "cell_type": "code",
   "execution_count": 31,
   "metadata": {},
   "outputs": [
    {
     "name": "stdout",
     "output_type": "stream",
     "text": [
      " * Serving Flask app \"__main__\" (lazy loading)\n",
      " * Environment: production\n",
      "   WARNING: This is a development server. Do not use it in a production deployment.\n",
      "   Use a production WSGI server instead.\n",
      " * Debug mode: off\n"
     ]
    },
    {
     "name": "stderr",
     "output_type": "stream",
     "text": [
      " * Running on http://127.0.0.1:5000/ (Press CTRL+C to quit)\n",
      "127.0.0.1 - - [21/Dec/2021 18:25:18] \"\u001b[37mPOST /api?url=https://res.cloudinary.com/dunbjnt9i/image/upload/v1640082054/test-img/ans_95_nfolac.png HTTP/1.1\u001b[0m\" 200 -\n"
     ]
    },
    {
     "name": "stdout",
     "output_type": "stream",
     "text": [
      "(1, 'B')\n",
      "(2, 'D')\n",
      "(3, 'A')\n",
      "(4, 'B')\n",
      "(5, 'B')\n",
      "(6, 'A')\n",
      "(7, 'C')\n",
      "(8, 'B')\n",
      "(9, 'C')\n",
      "(10, 'A')\n",
      "(11, 'D')\n",
      "(12, 'B')\n",
      "(13, 'B')\n",
      "(14, 'D')\n",
      "(15, 'B')\n",
      "(16, 'B')\n",
      "(17, 'A')\n",
      "(18, 'A')\n",
      "(19, 'D')\n",
      "(20, 'B')\n",
      "(21, 'C')\n",
      "(22, 'A')\n",
      "(23, 'C')\n",
      "(24, 'C')\n",
      "(25, 'B')\n",
      "(26, 'C')\n",
      "(27, 'B')\n",
      "(28, 'C')\n",
      "(29, 'A')\n",
      "(30, 'D')\n",
      "(31, 'A')\n",
      "(32, 'B')\n",
      "(33, 'A')\n",
      "(34, 'D')\n",
      "(35, 'D')\n",
      "(36, 'B')\n",
      "(37, 'A')\n",
      "(38, 'B')\n",
      "(39, 'C')\n",
      "(40, 'D')\n",
      "(41, 'B')\n",
      "(42, 'C')\n",
      "(43, 'C')\n",
      "(44, 'B')\n",
      "(45, 'B')\n",
      "(46, 'C')\n",
      "(47, 'D')\n",
      "(48, 'D')\n",
      "(49, 'C')\n",
      "(50, 'B')\n",
      "(51, 'B')\n",
      "(52, 'C')\n",
      "(53, 'B')\n",
      "(54, 'A')\n",
      "(55, 'D')\n",
      "(56, 'C')\n",
      "(57, 'C')\n",
      "(58, 'C')\n",
      "(59, 'D')\n",
      "(60, 'B')\n",
      "(61, 'A')\n",
      "(62, 'B')\n",
      "(63, 'D')\n",
      "(64, 'A')\n",
      "(65, 'B')\n",
      "(66, 'C')\n",
      "(67, 'C')\n",
      "(68, 'A')\n",
      "(69, 'C')\n",
      "(70, 'D')\n",
      "(71, 'B')\n",
      "(72, 'C')\n",
      "(73, 'B')\n",
      "(74, 'D')\n",
      "(75, 'D')\n",
      "(76, 'B')\n",
      "(77, 'C')\n",
      "(78, 'C')\n",
      "(79, 'B')\n",
      "(80, 'A')\n",
      "(81, 'D')\n",
      "(82, 'D')\n",
      "(83, 'B')\n",
      "(84, 'B')\n",
      "(85, 'C')\n",
      "(86, 'B')\n",
      "(87, 'B')\n",
      "(88, 'B')\n",
      "(89, 'A')\n",
      "(90, 'A')\n",
      "(91, 'D')\n",
      "(92, 'C')\n",
      "(93, 'D')\n",
      "(94, 'B')\n",
      "(95, 'D')\n",
      "(96, 'B')\n",
      "(97, 'A')\n",
      "(98, 'A')\n",
      "(99, 'C')\n",
      "(100, 'D')\n",
      "(101, 'A')\n",
      "(102, 'B')\n",
      "(103, 'C')\n",
      "(104, 'A')\n",
      "(105, 'A')\n",
      "(106, 'D')\n",
      "(107, 'D')\n",
      "(108, 'B')\n",
      "(109, 'B')\n",
      "(110, 'B')\n",
      "(111, 'D')\n",
      "(112, 'D')\n",
      "(113, 'B')\n",
      "(114, 'B')\n",
      "(115, 'B')\n",
      "(116, 'B')\n",
      "(117, 'A')\n",
      "(118, 'B')\n",
      "(119, 'D')\n",
      "(120, 'C')\n",
      "---student id------\n",
      "(1, 9)\n",
      "(2, 1)\n",
      "(3, 5)\n",
      "(4, 6)\n",
      "(5, 2)\n",
      "(6, 8)\n",
      "---code test id------\n",
      "(1, 2)\n",
      "(2, 1)\n",
      "(3, 0)\n"
     ]
    }
   ],
   "source": [
    "app.run()"
   ]
  },
  {
   "cell_type": "code",
   "execution_count": 32,
   "metadata": {},
   "outputs": [
    {
     "ename": "AttributeError",
     "evalue": "module 'urllib' has no attribute '__version__'",
     "output_type": "error",
     "traceback": [
      "\u001b[1;31m---------------------------------------------------------------------------\u001b[0m",
      "\u001b[1;31mAttributeError\u001b[0m                            Traceback (most recent call last)",
      "\u001b[1;32m<ipython-input-32-5b6b97269744>\u001b[0m in \u001b[0;36m<module>\u001b[1;34m\u001b[0m\n\u001b[1;32m----> 1\u001b[1;33m \u001b[0murllib\u001b[0m\u001b[1;33m.\u001b[0m\u001b[0m__version__\u001b[0m\u001b[1;33m\u001b[0m\u001b[1;33m\u001b[0m\u001b[0m\n\u001b[0m",
      "\u001b[1;31mAttributeError\u001b[0m: module 'urllib' has no attribute '__version__'"
     ]
    }
   ],
   "source": [
    "urllib.__version__"
   ]
  },
  {
   "cell_type": "code",
   "execution_count": null,
   "metadata": {},
   "outputs": [],
   "source": []
  },
  {
   "cell_type": "code",
   "execution_count": null,
   "metadata": {},
   "outputs": [],
   "source": []
  },
  {
   "cell_type": "code",
   "execution_count": null,
   "metadata": {},
   "outputs": [],
   "source": []
  },
  {
   "cell_type": "code",
   "execution_count": null,
   "metadata": {},
   "outputs": [],
   "source": []
  }
 ],
 "metadata": {
  "kernelspec": {
   "display_name": "Python 3",
   "language": "python",
   "name": "python3"
  },
  "language_info": {
   "codemirror_mode": {
    "name": "ipython",
    "version": 3
   },
   "file_extension": ".py",
   "mimetype": "text/x-python",
   "name": "python",
   "nbconvert_exporter": "python",
   "pygments_lexer": "ipython3",
   "version": "3.8.5"
  }
 },
 "nbformat": 4,
 "nbformat_minor": 4
}
